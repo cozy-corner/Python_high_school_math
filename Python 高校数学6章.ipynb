{
 "cells": [
  {
   "cell_type": "code",
   "execution_count": 2,
   "metadata": {},
   "outputs": [
    {
     "data": {
      "text/plain": [
       "True"
      ]
     },
     "execution_count": 2,
     "metadata": {},
     "output_type": "execute_result"
    }
   ],
   "source": [
    "# 集合\n",
    "A = { 1, 2, 3, 4, 5, 6, 7, 8, 9, 10 }\n",
    "B = { 2, 1, 3, 4, 6, 5, 7, 8, 9, 10 }\n",
    "A == B"
   ]
  },
  {
   "cell_type": "code",
   "execution_count": 3,
   "metadata": {},
   "outputs": [],
   "source": [
    "A.add(10)"
   ]
  },
  {
   "cell_type": "code",
   "execution_count": 4,
   "metadata": {},
   "outputs": [
    {
     "data": {
      "text/plain": [
       "{1, 2, 3, 4, 5, 6, 7, 8, 9, 10}"
      ]
     },
     "execution_count": 4,
     "metadata": {},
     "output_type": "execute_result"
    }
   ],
   "source": [
    "A"
   ]
  },
  {
   "cell_type": "code",
   "execution_count": 5,
   "metadata": {},
   "outputs": [
    {
     "data": {
      "text/plain": [
       "True"
      ]
     },
     "execution_count": 5,
     "metadata": {},
     "output_type": "execute_result"
    }
   ],
   "source": [
    "# 全体集合\n",
    "U = { 1, 2, 3, 4, 5, 6, 7, 8, 9, 10 }\n",
    "\n",
    "# 部分集合\n",
    "A = { 2, 4, 6, 8, 10}\n",
    "\n",
    "A <= U"
   ]
  },
  {
   "cell_type": "code",
   "execution_count": 6,
   "metadata": {},
   "outputs": [
    {
     "data": {
      "text/plain": [
       "{6}"
      ]
     },
     "execution_count": 6,
     "metadata": {},
     "output_type": "execute_result"
    }
   ],
   "source": [
    "# 積集合\n",
    "A = { 2, 4, 6, 8, 10}\n",
    "B = { 3, 6, 9}\n",
    "A & B"
   ]
  },
  {
   "cell_type": "code",
   "execution_count": 7,
   "metadata": {},
   "outputs": [
    {
     "data": {
      "text/plain": [
       "{2, 3, 4, 6, 8, 9, 10}"
      ]
     },
     "execution_count": 7,
     "metadata": {},
     "output_type": "execute_result"
    }
   ],
   "source": [
    "# 和集合\n",
    "A = { 2, 4, 6, 8, 10}\n",
    "B = { 3, 6, 9}\n",
    "A | B"
   ]
  },
  {
   "cell_type": "code",
   "execution_count": 8,
   "metadata": {},
   "outputs": [
    {
     "data": {
      "text/plain": [
       "{2, 4, 8, 10}"
      ]
     },
     "execution_count": 8,
     "metadata": {},
     "output_type": "execute_result"
    }
   ],
   "source": [
    "# 差集合\n",
    "A = { 2, 4, 6, 8, 10}\n",
    "B = { 3, 6, 9}\n",
    "A - B"
   ]
  },
  {
   "cell_type": "code",
   "execution_count": 9,
   "metadata": {},
   "outputs": [
    {
     "data": {
      "text/plain": [
       "{3, 9}"
      ]
     },
     "execution_count": 9,
     "metadata": {},
     "output_type": "execute_result"
    }
   ],
   "source": [
    "B - A"
   ]
  },
  {
   "cell_type": "code",
   "execution_count": 10,
   "metadata": {},
   "outputs": [
    {
     "data": {
      "text/plain": [
       "{2, 3, 4, 8, 9, 10}"
      ]
     },
     "execution_count": 10,
     "metadata": {},
     "output_type": "execute_result"
    }
   ],
   "source": [
    "# 対象差\n",
    "# 共通のものを除く\n",
    "A = { 2, 4, 6, 8, 10}\n",
    "B = { 3, 6, 9}\n",
    "A ^ B"
   ]
  },
  {
   "cell_type": "code",
   "execution_count": 12,
   "metadata": {},
   "outputs": [
    {
     "data": {
      "text/plain": [
       "set()"
      ]
     },
     "execution_count": 12,
     "metadata": {},
     "output_type": "execute_result"
    }
   ],
   "source": [
    "# 空集合\n",
    "X = { 1, 2, 3}\n",
    "Y = { 4, 5, 6}\n",
    "X & Y"
   ]
  },
  {
   "cell_type": "code",
   "execution_count": 15,
   "metadata": {},
   "outputs": [
    {
     "data": {
      "text/plain": [
       "7"
      ]
     },
     "execution_count": 15,
     "metadata": {},
     "output_type": "execute_result"
    }
   ],
   "source": [
    "A = { 2, 4, 6, 8, 10}\n",
    "B = { 3, 6, 9}\n",
    "len(A | B)"
   ]
  },
  {
   "cell_type": "code",
   "execution_count": 16,
   "metadata": {},
   "outputs": [
    {
     "data": {
      "text/plain": [
       "{(1, 2, 3),\n",
       " (1, 2, 4),\n",
       " (1, 2, 5),\n",
       " (1, 3, 2),\n",
       " (1, 3, 4),\n",
       " (1, 3, 5),\n",
       " (1, 4, 2),\n",
       " (1, 4, 3),\n",
       " (1, 4, 5),\n",
       " (1, 5, 2),\n",
       " (1, 5, 3),\n",
       " (1, 5, 4),\n",
       " (2, 1, 3),\n",
       " (2, 1, 4),\n",
       " (2, 1, 5),\n",
       " (2, 3, 1),\n",
       " (2, 3, 4),\n",
       " (2, 3, 5),\n",
       " (2, 4, 1),\n",
       " (2, 4, 3),\n",
       " (2, 4, 5),\n",
       " (2, 5, 1),\n",
       " (2, 5, 3),\n",
       " (2, 5, 4),\n",
       " (3, 1, 2),\n",
       " (3, 1, 4),\n",
       " (3, 1, 5),\n",
       " (3, 2, 1),\n",
       " (3, 2, 4),\n",
       " (3, 2, 5),\n",
       " (3, 4, 1),\n",
       " (3, 4, 2),\n",
       " (3, 4, 5),\n",
       " (3, 5, 1),\n",
       " (3, 5, 2),\n",
       " (3, 5, 4),\n",
       " (4, 1, 2),\n",
       " (4, 1, 3),\n",
       " (4, 1, 5),\n",
       " (4, 2, 1),\n",
       " (4, 2, 3),\n",
       " (4, 2, 5),\n",
       " (4, 3, 1),\n",
       " (4, 3, 2),\n",
       " (4, 3, 5),\n",
       " (4, 5, 1),\n",
       " (4, 5, 2),\n",
       " (4, 5, 3),\n",
       " (5, 1, 2),\n",
       " (5, 1, 3),\n",
       " (5, 1, 4),\n",
       " (5, 2, 1),\n",
       " (5, 2, 3),\n",
       " (5, 2, 4),\n",
       " (5, 3, 1),\n",
       " (5, 3, 2),\n",
       " (5, 3, 4),\n",
       " (5, 4, 1),\n",
       " (5, 4, 2),\n",
       " (5, 4, 3)}"
      ]
     },
     "execution_count": 16,
     "metadata": {},
     "output_type": "execute_result"
    }
   ],
   "source": [
    "import itertools\n",
    "num = { 1, 2, 3, 4, 5}\n",
    "\n",
    "# numの中から3個を選ぶ順列で集合を作成\n",
    "A = set(itertools.permutations(num, 3))\n",
    "A"
   ]
  },
  {
   "cell_type": "code",
   "execution_count": 17,
   "metadata": {},
   "outputs": [
    {
     "data": {
      "text/plain": [
       "60"
      ]
     },
     "execution_count": 17,
     "metadata": {},
     "output_type": "execute_result"
    }
   ],
   "source": [
    "len(A)"
   ]
  },
  {
   "cell_type": "code",
   "execution_count": 18,
   "metadata": {},
   "outputs": [
    {
     "data": {
      "text/plain": [
       "120"
      ]
     },
     "execution_count": 18,
     "metadata": {},
     "output_type": "execute_result"
    }
   ],
   "source": [
    "# 階乗\n",
    "num = { 1, 2, 3, 4, 5}\n",
    "A = set(itertools.permutations(num, 5))\n",
    "len(A)"
   ]
  },
  {
   "cell_type": "code",
   "execution_count": 19,
   "metadata": {},
   "outputs": [
    {
     "data": {
      "text/plain": [
       "120"
      ]
     },
     "execution_count": 19,
     "metadata": {},
     "output_type": "execute_result"
    }
   ],
   "source": [
    "import math\n",
    "math.factorial(5)"
   ]
  },
  {
   "cell_type": "code",
   "execution_count": 20,
   "metadata": {},
   "outputs": [
    {
     "data": {
      "text/plain": [
       "125"
      ]
     },
     "execution_count": 20,
     "metadata": {},
     "output_type": "execute_result"
    }
   ],
   "source": [
    "# 重複順列\n",
    "num = { 1, 2, 3, 4, 5}\n",
    "A = set(itertools.product(num, num, num))\n",
    "len(A)"
   ]
  },
  {
   "cell_type": "code",
   "execution_count": 22,
   "metadata": {},
   "outputs": [
    {
     "data": {
      "text/plain": [
       "{(1, 2, 3),\n",
       " (1, 2, 4),\n",
       " (1, 2, 5),\n",
       " (1, 3, 4),\n",
       " (1, 3, 5),\n",
       " (1, 4, 5),\n",
       " (2, 3, 4),\n",
       " (2, 3, 5),\n",
       " (2, 4, 5),\n",
       " (3, 4, 5)}"
      ]
     },
     "execution_count": 22,
     "metadata": {},
     "output_type": "execute_result"
    }
   ],
   "source": [
    "# 組み合わせ\n",
    "num = { 1, 2, 3, 4, 5}\n",
    "A = set(itertools.combinations(num, 3))\n",
    "A"
   ]
  },
  {
   "cell_type": "code",
   "execution_count": 23,
   "metadata": {},
   "outputs": [
    {
     "data": {
      "text/plain": [
       "10"
      ]
     },
     "execution_count": 23,
     "metadata": {},
     "output_type": "execute_result"
    }
   ],
   "source": [
    "len(A)"
   ]
  },
  {
   "cell_type": "code",
   "execution_count": 25,
   "metadata": {},
   "outputs": [
    {
     "data": {
      "text/plain": [
       "21"
      ]
     },
     "execution_count": 25,
     "metadata": {},
     "output_type": "execute_result"
    }
   ],
   "source": [
    "dice = { 1, 2, 3, 4, 5, 6}\n",
    "A = set(itertools.combinations(dice, 2))\n",
    "\n",
    "# 6は\n",
    "len(A) + 6"
   ]
  },
  {
   "cell_type": "code",
   "execution_count": 52,
   "metadata": {},
   "outputs": [
    {
     "data": {
      "text/plain": [
       "0.16749"
      ]
     },
     "execution_count": 52,
     "metadata": {},
     "output_type": "execute_result"
    }
   ],
   "source": [
    "# 確率\n",
    "import random\n",
    "\n",
    "cnt = 0\n",
    "kaisu = 100000\n",
    "\n",
    "for i in range(kaisu):\n",
    "    dice = random.randint(1, 6)\n",
    "    if dice == 1:\n",
    "        cnt +=1\n",
    "p = cnt / kaisu\n",
    "p"
   ]
  },
  {
   "cell_type": "code",
   "execution_count": 54,
   "metadata": {},
   "outputs": [
    {
     "data": {
      "text/plain": [
       "Fraction(2, 7)"
      ]
     },
     "execution_count": 54,
     "metadata": {},
     "output_type": "execute_result"
    }
   ],
   "source": [
    "from fractions import Fraction\n",
    "\n",
    "# Aあたり B 外れ　Cあたり\n",
    "x = Fraction(2, 7) * Fraction(5, 6) * Fraction(1, 5)\n",
    "# A 外れ　B あたり　Cあたり\n",
    "y = Fraction(5, 7) * Fraction(2, 6) * Fraction(1, 5)\n",
    "# A 外れ　B 外れ　Cあたり\n",
    "z = Fraction(5, 7) * Fraction(4, 6) * Fraction(2, 5)\n",
    "\n",
    "p = x + y + z\n",
    "p"
   ]
  },
  {
   "cell_type": "code",
   "execution_count": null,
   "metadata": {},
   "outputs": [],
   "source": [
    "# モンテカルロ法で円周率を計算する"
   ]
  },
  {
   "cell_type": "code",
   "execution_count": 72,
   "metadata": {},
   "outputs": [
    {
     "data": {
      "text/plain": [
       "<function matplotlib.pyplot.show(*args, **kw)>"
      ]
     },
     "execution_count": 72,
     "metadata": {},
     "output_type": "execute_result"
    },
    {
     "data": {
      "image/png": "[encoded data removed]",
      "text/plain": [
       "<Figure size 432x288 with 1 Axes>"
      ]
     },
     "metadata": {
      "needs_background": "light"
     },
     "output_type": "display_data"
    }
   ],
   "source": [
    "%matplotlib inline\n",
    "import matplotlib.pyplot as plt\n",
    "import random\n",
    "import math\n",
    "\n",
    "# 点を描画\n",
    "cnt = 0\n",
    "for i in range(500):\n",
    "    x = random.randint(1, 100)\n",
    "    y = random.randint(1, 100)\n",
    "    \n",
    "    d = math.sqrt((x - 50)**2 + (y - 50)**2)\n",
    "    \n",
    "    if(d <= 50):\n",
    "        cnt +=1\n",
    "        plt.scatter(x, y, marker='.', c='y')\n",
    "    else:\n",
    "        plt.scatter(x, y, marker='.', c='b')\n",
    "plt.axis('equal')\n",
    "plt.show\n",
    "    "
   ]
  },
  {
   "cell_type": "code",
   "execution_count": 70,
   "metadata": {},
   "outputs": [
    {
     "data": {
      "text/plain": [
       "0.6112"
      ]
     },
     "execution_count": 70,
     "metadata": {},
     "output_type": "execute_result"
    }
   ],
   "source": [
    "p = cnt / 5000\n",
    "pi = p * 4\n",
    "pi"
   ]
  },
  {
   "cell_type": "code",
   "execution_count": null,
   "metadata": {},
   "outputs": [],
   "source": []
  }
 ],
 "metadata": {
  "kernelspec": {
   "display_name": "Python 3",
   "language": "python",
   "name": "python3"
  },
  "language_info": {
   "codemirror_mode": {
    "name": "ipython",
    "version": 3
   },
   "file_extension": ".py",
   "mimetype": "text/x-python",
   "name": "python",
   "nbconvert_exporter": "python",
   "pygments_lexer": "ipython3",
   "version": "3.7.4"
  }
 },
 "nbformat": 4,
 "nbformat_minor": 4
}
